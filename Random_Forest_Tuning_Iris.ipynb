{
  "cells": [
    {
      "cell_type": "markdown",
      "metadata": {
        "id": "view-in-github",
        "colab_type": "text"
      },
      "source": [
        "<a href=\"https://colab.research.google.com/github/znjubery/hpc-ai-intro_2025/blob/main/Random_Forest_Tuning_Iris.ipynb\" target=\"_parent\"><img src=\"https://colab.research.google.com/assets/colab-badge.svg\" alt=\"Open In Colab\"/></a>"
      ]
    },
    {
      "cell_type": "markdown",
      "id": "54280097",
      "metadata": {
        "id": "54280097"
      },
      "source": [
        "# Hyperparameter Tuning for Random Forest on Iris Dataset"
      ]
    },
    {
      "cell_type": "markdown",
      "id": "48877d50",
      "metadata": {
        "id": "48877d50"
      },
      "source": [
        "## Step 1: Load and Split Dataset"
      ]
    },
    {
      "cell_type": "code",
      "execution_count": null,
      "id": "21d98e70",
      "metadata": {
        "colab": {
          "base_uri": "https://localhost:8080/"
        },
        "id": "21d98e70",
        "outputId": "72646e8a-4d7d-4cc5-d544-50d6af165e31"
      },
      "outputs": [
        {
          "output_type": "stream",
          "name": "stdout",
          "text": [
            "Train and test sets created.\n"
          ]
        }
      ],
      "source": [
        "\n",
        "from sklearn.datasets import load_iris\n",
        "from sklearn.model_selection import train_test_split\n",
        "\n",
        "# Load Iris dataset\n",
        "iris = load_iris()\n",
        "X, y = iris.data, iris.target\n",
        "\n",
        "# Split Dataset\n",
        "X_train, X_test, y_train, y_test = train_test_split(\n",
        "    X, y, test_size=0.3, random_state=42, stratify=y\n",
        ")\n",
        "print(\"Train and test sets created.\")\n"
      ]
    },
    {
      "cell_type": "markdown",
      "id": "a0d595db",
      "metadata": {
        "id": "a0d595db"
      },
      "source": [
        "## Step 2: Hyperparameter Tuning"
      ]
    },
    {
      "cell_type": "code",
      "execution_count": null,
      "id": "b46d84d1",
      "metadata": {
        "colab": {
          "base_uri": "https://localhost:8080/"
        },
        "id": "b46d84d1",
        "outputId": "122691c7-8a55-4c1d-cc43-1d18aa840250"
      },
      "outputs": [
        {
          "output_type": "stream",
          "name": "stdout",
          "text": [
            "Fitting 5 folds for each of 27 candidates, totalling 135 fits\n",
            "Best Parameters: {'max_depth': None, 'min_samples_split': 5, 'n_estimators': 150}\n",
            "Grid Search Time (without parallel processing): 21.47 seconds\n"
          ]
        }
      ],
      "source": [
        "\n",
        "from sklearn.ensemble import RandomForestClassifier\n",
        "from sklearn.model_selection import GridSearchCV\n",
        "import time\n",
        "# Define parameter grid\n",
        "param_grid = {\n",
        "    'n_estimators': [50, 100, 150],\n",
        "    'max_depth': [None, 10, 20],\n",
        "    'min_samples_split': [2, 5, 10]\n",
        "}\n",
        "\n",
        "start_time = time.time()\n",
        "# Perform Grid Search\n",
        "grid_search = GridSearchCV(\n",
        "    RandomForestClassifier(random_state=42), param_grid, cv=5, n_jobs=1, verbose=1\n",
        ")\n",
        "grid_search.fit(X_train, y_train)\n",
        "\n",
        "end_time = time.time()\n",
        "\n",
        "# Display best parameters and timing\n",
        "print(\"Best Parameters:\", grid_search.best_params_)\n",
        "print(f\"Grid Search Time (without parallel processing): {end_time - start_time:.2f} seconds\")"
      ]
    },
    {
      "cell_type": "markdown",
      "id": "6ef5530f",
      "metadata": {
        "id": "6ef5530f"
      },
      "source": [
        "## Step 3: Evaluate Tuned Model"
      ]
    },
    {
      "cell_type": "code",
      "execution_count": null,
      "id": "ecfb2af5",
      "metadata": {
        "colab": {
          "base_uri": "https://localhost:8080/",
          "height": 680
        },
        "id": "ecfb2af5",
        "outputId": "2e415eed-4ed8-43a8-a394-14d67c1abc2d"
      },
      "outputs": [
        {
          "output_type": "stream",
          "name": "stdout",
          "text": [
            "Accuracy: 0.89\n",
            "Classification Report:\n",
            "              precision    recall  f1-score   support\n",
            "\n",
            "      setosa       1.00      1.00      1.00        15\n",
            "  versicolor       0.78      0.93      0.85        15\n",
            "   virginica       0.92      0.73      0.81        15\n",
            "\n",
            "    accuracy                           0.89        45\n",
            "   macro avg       0.90      0.89      0.89        45\n",
            "weighted avg       0.90      0.89      0.89        45\n",
            "\n"
          ]
        },
        {
          "output_type": "display_data",
          "data": {
            "text/plain": [
              "<Figure size 640x480 with 2 Axes>"
            ],
            "image/png": "[encoded data removed]"
          },
          "metadata": {}
        }
      ],
      "source": [
        "\n",
        "from sklearn.metrics import classification_report, accuracy_score, confusion_matrix\n",
        "import seaborn as sns\n",
        "import matplotlib.pyplot as plt\n",
        "\n",
        "# Evaluate best model\n",
        "best_model = grid_search.best_estimator_\n",
        "y_pred = best_model.predict(X_test)\n",
        "accuracy = accuracy_score(y_test, y_pred)\n",
        "print(f\"Accuracy: {accuracy:.2f}\")\n",
        "\n",
        "\n",
        "# Confusion Matrix\n",
        "conf_matrix = confusion_matrix(y_test, y_pred)\n",
        "sns.heatmap(conf_matrix, annot=True, fmt=\"d\", cmap=\"Blues\", xticklabels=iris.target_names, yticklabels=iris.target_names)\n",
        "plt.title(\"Confusion Matrix\")\n",
        "plt.xlabel(\"Predicted Label\")\n",
        "plt.ylabel(\"True Label\")\n",
        "plt.show()"
      ]
    },
    {
      "cell_type": "code",
      "source": [],
      "metadata": {
        "id": "RXpyHccdnpOT"
      },
      "id": "RXpyHccdnpOT",
      "execution_count": null,
      "outputs": []
    }
  ],
  "metadata": {
    "colab": {
      "provenance": [],
      "include_colab_link": true
    },
    "language_info": {
      "name": "python"
    },
    "kernelspec": {
      "name": "python3",
      "display_name": "Python 3"
    }
  },
  "nbformat": 4,
  "nbformat_minor": 5
}