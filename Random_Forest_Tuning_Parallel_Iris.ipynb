{
  "cells": [
    {
      "cell_type": "markdown",
      "metadata": {
        "id": "view-in-github",
        "colab_type": "text"
      },
      "source": [
        "<a href=\"https://colab.research.google.com/github/znjubery/hpc-ai-intro_2025/blob/main/Random_Forest_Tuning_Parallel_Iris.ipynb\" target=\"_parent\"><img src=\"https://colab.research.google.com/assets/colab-badge.svg\" alt=\"Open In Colab\"/></a>"
      ]
    },
    {
      "cell_type": "markdown",
      "id": "13e5fb18",
      "metadata": {
        "id": "13e5fb18"
      },
      "source": [
        "# Hyperparameter Tuning with Parallel Processing on Iris Dataset"
      ]
    },
    {
      "cell_type": "markdown",
      "id": "e7d0b09f",
      "metadata": {
        "id": "e7d0b09f"
      },
      "source": [
        "## Step 1: Load and Split Dataset"
      ]
    },
    {
      "cell_type": "code",
      "execution_count": null,
      "id": "9eb216f1",
      "metadata": {
        "colab": {
          "base_uri": "https://localhost:8080/"
        },
        "id": "9eb216f1",
        "outputId": "cb13de1c-6899-431f-91eb-d4065b4bee9d"
      },
      "outputs": [
        {
          "output_type": "stream",
          "name": "stdout",
          "text": [
            "Train and test sets created.\n"
          ]
        }
      ],
      "source": [
        "\n",
        "from sklearn.datasets import load_iris\n",
        "from sklearn.model_selection import train_test_split\n",
        "\n",
        "# Load Iris dataset\n",
        "iris = load_iris()\n",
        "X, y = iris.data, iris.target\n",
        "\n",
        "# Split Dataset\n",
        "X_train, X_test, y_train, y_test = train_test_split(\n",
        "    X, y, test_size=0.3, random_state=42, stratify=y\n",
        ")\n",
        "print(\"Train and test sets created.\")\n"
      ]
    },
    {
      "cell_type": "markdown",
      "id": "c138fcf8",
      "metadata": {
        "id": "c138fcf8"
      },
      "source": [
        "## Step 2: Hyperparameter Tuning with Parallel Processing"
      ]
    },
    {
      "cell_type": "code",
      "source": [
        "!python --version"
      ],
      "metadata": {
        "colab": {
          "base_uri": "https://localhost:8080/"
        },
        "id": "cHY4O15pKR4q",
        "outputId": "eff43cee-c779-4656-b56d-efb1393b0b4f"
      },
      "id": "cHY4O15pKR4q",
      "execution_count": null,
      "outputs": [
        {
          "output_type": "stream",
          "name": "stdout",
          "text": [
            "Python 3.10.12\n"
          ]
        }
      ]
    },
    {
      "cell_type": "code",
      "execution_count": null,
      "id": "901c4900",
      "metadata": {
        "colab": {
          "base_uri": "https://localhost:8080/"
        },
        "id": "901c4900",
        "outputId": "0a0ace04-18a5-4373-f67b-3dc405bf18c7"
      },
      "outputs": [
        {
          "output_type": "stream",
          "name": "stdout",
          "text": [
            "Fitting 5 folds for each of 27 candidates, totalling 135 fits\n",
            "Best Parameters: {'max_depth': None, 'min_samples_split': 5, 'n_estimators': 150}\n",
            "Grid Search Time: 30.95 seconds\n"
          ]
        }
      ],
      "source": [
        "\n",
        "import time\n",
        "from sklearn.ensemble import RandomForestClassifier\n",
        "from sklearn.model_selection import GridSearchCV\n",
        "\n",
        "# Define parameter grid\n",
        "param_grid = {\n",
        "    'n_estimators': [50, 100, 150],\n",
        "    'max_depth': [None, 10, 20],\n",
        "    'min_samples_split': [2, 5, 10]\n",
        "}\n",
        "\n",
        "start_time = time.time()\n",
        "# Perform Grid Search with parallel processing\n",
        "grid_search = GridSearchCV(\n",
        "    RandomForestClassifier(random_state=42), param_grid, cv=5, n_jobs=5, verbose=1\n",
        ")\n",
        "grid_search.fit(X_train, y_train)\n",
        "\n",
        "end_time = time.time()\n",
        "\n",
        "# Display best parameters and timing\n",
        "print(\"Best Parameters:\", grid_search.best_params_)\n",
        "print(f\"Grid Search Time: {end_time - start_time:.2f} seconds\")\n"
      ]
    },
    {
      "cell_type": "markdown",
      "id": "2d26e397",
      "metadata": {
        "id": "2d26e397"
      },
      "source": [
        "## Step 3: Evaluate Tuned Model and Display Confusion Matrix"
      ]
    },
    {
      "cell_type": "code",
      "execution_count": null,
      "id": "2d7bb0da",
      "metadata": {
        "colab": {
          "base_uri": "https://localhost:8080/",
          "height": 489
        },
        "id": "2d7bb0da",
        "outputId": "28f839c4-01bc-4be9-9b9d-7b6fd24fbff0"
      },
      "outputs": [
        {
          "output_type": "stream",
          "name": "stdout",
          "text": [
            "Accuracy: 0.91\n"
          ]
        },
        {
          "output_type": "display_data",
          "data": {
            "text/plain": [
              "<Figure size 640x480 with 2 Axes>"
            ],
            "image/png": "[encoded data removed]"
          },
          "metadata": {}
        }
      ],
      "source": [
        "\n",
        "from sklearn.metrics import classification_report, accuracy_score, confusion_matrix\n",
        "import seaborn as sns\n",
        "import matplotlib.pyplot as plt\n",
        "\n",
        "# Evaluate best model\n",
        "best_model = grid_search.best_estimator_\n",
        "y_pred = best_model.predict(X_test)\n",
        "accuracy = accuracy_score(y_test, y_pred)\n",
        "print(f\"Accuracy: {accuracy:.2f}\")\n",
        "classification_rep = classification_report(y_test, y_pred, target_names=iris.target_names)\n",
        "\n",
        "\n",
        "# Confusion Matrix\n",
        "conf_matrix = confusion_matrix(y_test, y_pred)\n",
        "sns.heatmap(conf_matrix, annot=True, fmt=\"d\", cmap=\"Blues\", xticklabels=iris.target_names, yticklabels=iris.target_names)\n",
        "plt.title(\"Confusion Matrix\")\n",
        "plt.xlabel(\"Predicted Label\")\n",
        "plt.ylabel(\"True Label\")\n",
        "plt.show()\n"
      ]
    },
    {
      "cell_type": "code",
      "source": [
        "# Cell to display the version of imported libraries and Python version\n",
        "import sklearn\n",
        "import matplotlib\n",
        "import pandas as pd\n",
        "import time\n",
        "import sys\n",
        "\n",
        "print(f\"Python version: {sys.version}\")\n",
        "print(f\"scikit-learn version: {sklearn.__version__}\")\n",
        "print(f\"Matplotlib version: {matplotlib.__version__}\")\n",
        "print(f\"Pandas version: {pd.__version__}\")\n",
        "print(f\"Time module: Built-in (no version attribute)\")\n"
      ],
      "metadata": {
        "id": "dJEafnkTpP-x",
        "colab": {
          "base_uri": "https://localhost:8080/"
        },
        "outputId": "b2db4572-1824-435d-c776-adba155348b4"
      },
      "id": "dJEafnkTpP-x",
      "execution_count": null,
      "outputs": [
        {
          "output_type": "stream",
          "name": "stdout",
          "text": [
            "Python version: 3.10.12 (main, Sep 11 2024, 15:47:36) [GCC 11.4.0]\n",
            "scikit-learn version: 1.5.2\n",
            "Matplotlib version: 3.8.0\n",
            "Pandas version: 2.2.2\n",
            "Time module: Built-in (no version attribute)\n"
          ]
        }
      ]
    },
    {
      "cell_type": "code",
      "source": [
        "sns.__version__"
      ],
      "metadata": {
        "colab": {
          "base_uri": "https://localhost:8080/",
          "height": 35
        },
        "id": "BQt8v-acmATA",
        "outputId": "7290a10a-6dea-4d6b-fa18-9cad6708893b"
      },
      "id": "BQt8v-acmATA",
      "execution_count": null,
      "outputs": [
        {
          "output_type": "execute_result",
          "data": {
            "text/plain": [
              "'0.13.2'"
            ],
            "application/vnd.google.colaboratory.intrinsic+json": {
              "type": "string"
            }
          },
          "metadata": {},
          "execution_count": 16
        }
      ]
    },
    {
      "cell_type": "code",
      "source": [],
      "metadata": {
        "id": "QFjUWUxrmDsr"
      },
      "id": "QFjUWUxrmDsr",
      "execution_count": null,
      "outputs": []
    }
  ],
  "metadata": {
    "colab": {
      "provenance": [],
      "include_colab_link": true
    },
    "language_info": {
      "name": "python"
    },
    "kernelspec": {
      "name": "python3",
      "display_name": "Python 3"
    }
  },
  "nbformat": 4,
  "nbformat_minor": 5
}